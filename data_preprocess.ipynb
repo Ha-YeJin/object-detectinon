{
  "nbformat": 4,
  "nbformat_minor": 0,
  "metadata": {
    "colab": {
      "provenance": [],
      "authorship_tag": "ABX9TyMt7Qbggijt9oesbpyM2iMj",
      "include_colab_link": true
    },
    "kernelspec": {
      "name": "python3",
      "display_name": "Python 3"
    },
    "language_info": {
      "name": "python"
    }
  },
  "cells": [
    {
      "cell_type": "markdown",
      "metadata": {
        "id": "view-in-github",
        "colab_type": "text"
      },
      "source": [
        "<a href=\"https://colab.research.google.com/github/yezzzzin/object-detectinon/blob/main/data_preprocess.ipynb\" target=\"_parent\"><img src=\"https://colab.research.google.com/assets/colab-badge.svg\" alt=\"Open In Colab\"/></a>"
      ]
    },
    {
      "cell_type": "code",
      "execution_count": null,
      "metadata": {
        "id": "gMSjERvrK_H1"
      },
      "outputs": [],
      "source": [
        "import numpy as np\n",
        "from scipy.fftpack import fft\n",
        "from scipy.signal import get_window\n",
        "from scipy.fftpack import dct"
      ]
    },
    {
      "cell_type": "code",
      "source": [
        "def compute_mfcc(audio_signal, sample_rate=44100, frame_size=0.025, frame_stride=0.01, num_mfcc=13, nfilt=26, nfft=512):\n",
        "    # Step 1: Frame Segmentation\n",
        "    frame_length, frame_step = frame_size * sample_rate, frame_stride * sample_rate\n",
        "    signal_length = len(audio_signal)\n",
        "    frame_length = int(round(frame_length))\n",
        "    frame_step = int(round(frame_step))\n",
        "    num_frames = int(np.ceil(float(np.abs(signal_length - frame_length)) / frame_step))\n",
        "\n",
        "    # zero padding\n",
        "    pad_signal_length = num_frames * frame_step + frame_length\n",
        "    z = np.zeros((pad_signal_length - signal_length))\n",
        "    pad_signal = np.append(audio_signal, z)\n",
        "\n",
        "    indices = np.tile(np.arange(0, frame_length), (num_frames, 1)) + np.tile(np.arange(0, num_frames * frame_step, frame_step), (frame_length, 1)).T\n",
        "    frames = pad_signal[indices.astype(np.int32, copy=False)]\n",
        "\n",
        "    # Step 2: FFT\n",
        "    mag_frames = np.absolute(fft(frames, nfft))[:nfft // 2]\n",
        "\n",
        "    # Step 3: Mel filterbank\n",
        "    mel_filterbank = mel_filterbank_coefficients(sample_rate, nfilt, nfft)\n",
        "    mel_energy = np.dot(mag_frames, mel_filterbank.T)\n",
        "    mel_energy = np.where(mel_energy == 0, np.finfo(float).eps, mel_energy)  # Avoiding zero\n",
        "\n",
        "    # Step 4: Log transform\n",
        "    mel_energy = np.log(mel_energy)\n",
        "\n",
        "    # Step 5: DCT\n",
        "    mfcc = dct(mel_energy, type=2, axis=1, norm='ortho')[:, 1 : (num_mfcc + 1)]\n",
        "\n",
        "    return mfcc"
      ],
      "metadata": {
        "id": "pIZv6oI3LH7W"
      },
      "execution_count": null,
      "outputs": []
    },
    {
      "cell_type": "code",
      "source": [
        "def mel_filterbank_coefficients(sample_rate, nfilt, nfft):\n",
        "    low_freq_mel = 0\n",
        "    high_freq_mel = (2595 * np.log10(1 + (sample_rate / 2) / 700))\n",
        "    mel_points = np.linspace(low_freq_mel, high_freq_mel, nfilt + 2)\n",
        "    hz_points = (700 * (10**(mel_points / 2595) - 1))\n",
        "    bin_points = np.floor((nfft + 1) * hz_points / sample_rate)\n",
        "\n",
        "    fbank = np.zeros((nfilt, nfft // 2 + 1))\n",
        "    for m in range(1, nfilt + 1):\n",
        "        f_m_minus = int(bin_points[m - 1])\n",
        "        f_m = int(bin_points[m])\n",
        "        f_m_plus = int(bin_points[m + 1])\n",
        "        for k in range(f_m_minus, f_m):\n",
        "            fbank[m - 1, k] = (k - bin_points[m - 1]) / (bin_points[m] - bin_points[m - 1])\n",
        "        for k in range(f_m, f_m_plus):\n",
        "            fbank[m - 1, k] = (bin_points[m + 1] - k) / (bin_points[m + 1] - bin_points[m])\n",
        "    return fbank"
      ],
      "metadata": {
        "id": "5D_ZLj9PLOyI"
      },
      "execution_count": null,
      "outputs": []
    }
  ]
}